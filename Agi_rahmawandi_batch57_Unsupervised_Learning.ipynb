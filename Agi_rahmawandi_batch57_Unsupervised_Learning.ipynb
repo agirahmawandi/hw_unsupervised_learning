{
 "cells": [
  {
   "cell_type": "markdown",
   "id": "ff0b5933",
   "metadata": {},
   "source": [
    "# HW Supervised Learning Classification"
   ]
  },
  {
   "cell_type": "markdown",
   "id": "35b90038",
   "metadata": {},
   "source": [
    "### Agi Rahmawandi <br> Batch 57"
   ]
  },
  {
   "cell_type": "markdown",
   "id": "eccd9f71",
   "metadata": {},
   "source": [
    "## Telecommunication Customers Churn Prediction"
   ]
  },
  {
   "cell_type": "markdown",
   "id": "127d828c",
   "metadata": {},
   "source": [
    "### melakukan prediksi apakah suatu customer akan churn atau tidak.\n"
   ]
  }
 ],
 "metadata": {
  "language_info": {
   "name": "python"
  }
 },
 "nbformat": 4,
 "nbformat_minor": 5
}
